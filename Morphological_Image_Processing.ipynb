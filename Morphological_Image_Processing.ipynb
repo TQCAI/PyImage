{
 "cells": [
  {
   "cell_type": "markdown",
   "metadata": {
    "collapsed": false
   },
   "source": [
    "# Morphological Image Processing in Python\n",
    "###Tanmoy Dasgupta\n",
    "thetdg@live.com | Assistant Professor | Department of Electrical Engineering | Techno India University, Kolkata"
   ]
  },
  {
   "cell_type": "code",
   "execution_count": null,
   "metadata": {
    "collapsed": false
   },
   "outputs": [],
   "source": [
    "import numpy as np\n",
    "import scipy as sp\n",
    "import matplotlib.pyplot as plt\n",
    "import PIL\n",
    "import cv2\n",
    "import skimage as sk\n",
    "%pylab inline"
   ]
  },
  {
   "cell_type": "markdown",
   "metadata": {},
   "source": [
    "###Binary Morphology\n",
    "Morphological transformations are some simple operations based on the image shape. It is normally performed on binary images. It needs two inputs, one is our original image, second one is called structuring element or kernel which decides the nature of operation. Two basic morphological operators are Erosion and Dilation. Then its variant forms like Opening, Closing, Gradient etc also comes into play.\n",
    "\n",
    "Images can be thought to be a mapping from the integer space $\\mathbb{Z^2}$ to $\\mathbb{R}$. For a binary image, the mapping reduces to $f: \\mathbb{Z^2} \\to \\{0,1\\}$. Every pixel at position $(x,y)\\in\\mathbb{Z^2}$ is either completely dark $(0)$ or completely bright $(1)$. We shall now introduce two very important set operations.\n",
    "\n",
    "**Reflection** of a set $B\\subseteq\\mathbb{Z}^2$ is defined as $\\hat{B}  = \\{w : w=-b, \\forall b\\in B\\}$. E.g. if $B$ is a set of points of the form $(x,y)$, then $\\hat{B}$ can be found by replacing those points by $(-x,-y)$.\n",
    "\n",
    "**Translation** of a set $B\\subseteq\\mathbb{Z}^2$ by a point $z=(z_1,z_2)$ is defined as $(B)_z=\\{c : c=b+z,\\forall b\\in B\\}$. E.g. if $B$ is a set of points of the form $(x,y)$, then $(B)_z$ can be found by replacig those points by $(x+z_1, y+z_2)$.\n",
    "\n",
    "Set reflection and translation are employed extensively in morphology to formulate operations based on so-called **structuring elements (SEs)** or **kernels**. SEs are basically small sets or subimages used to probe an image under study for properties of interest. Usually they are often taken in rectangular, circular, elliptical or cross shapes. "
   ]
  },
  {
   "cell_type": "markdown",
   "metadata": {},
   "source": [
    "####Erosion \n",
    "With $A, B \\subseteq \\mathbb{Z}^2$, the erosion of $A$ by $B$ (SE) is defined as $A\\ominus B = \\{z : (B)_z \\subseteq A\\}$. In words, this equation indicated that the erosion of $A$ by $B$ is the set of all points $z$ such that $B$, translated by $z$, is contained in $A$. The basic idea of erosion is just like soil erosion only, it erodes away the boundaries of foreground object (Always try to keep foreground in white). So what does it do? The kernel (SE) slides through the image (as in 2D convolution). A pixel in the original image (either 1 or 0) will be considered 1 only if all the pixels under the kernel is 1, otherwise it is eroded (made to zero).\n",
    "\n",
    "So what happends is that, all the pixels near boundary will be discarded depending upon the size of kernel. So the thickness or size of the foreground object decreases or simply white region decreases in the image. It is useful for removing small white noises, detach two connected objects etc. Let us use a rectangular SE (kernel) to check this out."
   ]
  },
  {
   "cell_type": "code",
   "execution_count": null,
   "metadata": {
    "collapsed": false
   },
   "outputs": [],
   "source": [
    "img = cv2.imread('images/binary_circles.jpg',0)\n",
    "kernel1 = np.ones((3,3), np.uint8)\n",
    "erosion1 = cv2.erode(img, kernel1, iterations = 1)\n",
    "kernel2 = np.ones((5,5), np.uint8)\n",
    "erosion2 = cv2.erode(img, kernel2, iterations = 1)\n",
    "\n",
    "plt.figure(figsize=(15, 5))\n",
    "plt.subplot(131)\n",
    "plt.imshow(img, cmap=plt.cm.gray)\n",
    "plt.title('Original image')\n",
    "plt.subplot(132)\n",
    "plt.imshow(erosion1, cmap=plt.cm.gray)\n",
    "plt.title(r'Erosion with a $3\\times3$ kernel')\n",
    "plt.subplot(133)\n",
    "plt.imshow(erosion2, cmap=plt.cm.gray)\n",
    "plt.title(r'Erosion with a $5\\times5$ kernel')"
   ]
  },
  {
   "cell_type": "code",
   "execution_count": null,
   "metadata": {
    "collapsed": false
   },
   "outputs": [],
   "source": [
    "img = cv2.imread('images/binary_retina.png',0)\n",
    "kernel1 = np.ones((3,3), np.uint8)\n",
    "dilation1 = cv2.dilate(img, kernel1, iterations = 1)\n",
    "kernel2 = np.ones((5,5), np.uint8)\n",
    "dilation2 = cv2.dilate(img, kernel2, iterations = 1)\n",
    "\n",
    "plt.figure(figsize=(15, 5))\n",
    "plt.subplot(131)\n",
    "plt.imshow(img, cmap=plt.cm.gray)\n",
    "plt.title('Original image')\n",
    "plt.subplot(132)\n",
    "plt.imshow(dilation1, cmap=plt.cm.gray)\n",
    "plt.title(r'Dilation with a $3\\times3$ kernel')\n",
    "plt.subplot(133)\n",
    "plt.imshow(dilation2, cmap=plt.cm.gray)\n",
    "plt.title(r'Dilation with a $5\\times5$ kernel')"
   ]
  },
  {
   "cell_type": "code",
   "execution_count": null,
   "metadata": {
    "collapsed": false
   },
   "outputs": [],
   "source": [
    "img = cv2.imread('images/binary_sand.png',0)\n",
    "kernel1 = np.ones((5,5), np.uint8)\n",
    "opening1 = cv2.morphologyEx(img, cv2.MORPH_OPEN, kernel1)\n",
    "kernel2 = np.ones((7,7), np.uint8)\n",
    "opening2 = cv2.morphologyEx(img, cv2.MORPH_OPEN, kernel2)\n",
    "\n",
    "plt.figure(figsize=(15, 5))\n",
    "plt.subplot(131)\n",
    "plt.imshow(img, cmap=plt.cm.gray)\n",
    "plt.title('Original image')\n",
    "plt.subplot(132)\n",
    "plt.imshow(opening1, cmap=plt.cm.gray)\n",
    "plt.title(r'Opening with a $5\\times5$ kernel')\n",
    "plt.subplot(133)\n",
    "plt.imshow(opening2, cmap=plt.cm.gray)\n",
    "plt.title(r'Opening with a $7\\times7$ kernel')"
   ]
  },
  {
   "cell_type": "code",
   "execution_count": null,
   "metadata": {
    "collapsed": false
   },
   "outputs": [],
   "source": [
    "img = cv2.imread('images/binary_circles.jpg',0)\n",
    "kernel1 = np.ones((5,5), np.uint8)\n",
    "closing1 = cv2.morphologyEx(img, cv2.MORPH_CLOSE, kernel1)\n",
    "kernel2 = np.ones((7,7), np.uint8)\n",
    "closing2 = cv2.morphologyEx(img, cv2.MORPH_CLOSE, kernel2)\n",
    "\n",
    "plt.figure(figsize=(15, 5))\n",
    "plt.subplot(131)\n",
    "plt.imshow(img, cmap=plt.cm.gray)\n",
    "plt.title('Original image')\n",
    "plt.subplot(132)\n",
    "plt.imshow(closing1, cmap=plt.cm.gray)\n",
    "plt.title(r'Closing with a $5\\times5$ kernel')\n",
    "plt.subplot(133)\n",
    "plt.imshow(closing2, cmap=plt.cm.gray)\n",
    "plt.title(r'Closing with a $7\\times7$ kernel')"
   ]
  },
  {
   "cell_type": "code",
   "execution_count": null,
   "metadata": {
    "collapsed": false
   },
   "outputs": [],
   "source": [
    "img = cv2.imread('images/binary_circles.jpg',0)\n",
    "kernel1 = np.ones((3,3), np.uint8)\n",
    "grad1 = cv2.morphologyEx(img, cv2.MORPH_GRADIENT, kernel1)\n",
    "kernel2 = np.ones((5,5), np.uint8)\n",
    "grad2 = cv2.morphologyEx(img, cv2.MORPH_GRADIENT, kernel2)\n",
    "\n",
    "plt.figure(figsize=(15, 5))\n",
    "plt.subplot(131)\n",
    "plt.imshow(img, cmap=plt.cm.gray)\n",
    "plt.title('Original image')\n",
    "plt.subplot(132)\n",
    "plt.imshow(grad1, cmap=plt.cm.gray)\n",
    "plt.title(r'Morphological gradient with a $3\\times3$ kernel')\n",
    "plt.subplot(133)\n",
    "plt.imshow(grad2, cmap=plt.cm.gray)\n",
    "plt.title(r'Morphological gradient with a $5\\times5$ kernel')"
   ]
  },
  {
   "cell_type": "code",
   "execution_count": null,
   "metadata": {
    "collapsed": false
   },
   "outputs": [],
   "source": [
    "img = cv2.imread('images/binary_angiogram.png',0)\n",
    "kernel1 = np.ones((5,5), np.uint8)\n",
    "top1 = cv2.morphologyEx(img, cv2.MORPH_TOPHAT, kernel1)\n",
    "kernel2 = np.ones((9,9), np.uint8)\n",
    "top2 = cv2.morphologyEx(img, cv2.MORPH_TOPHAT, kernel2)\n",
    "\n",
    "plt.figure(figsize=(15, 5))\n",
    "plt.subplot(131)\n",
    "plt.imshow(img, cmap=plt.cm.gray)\n",
    "plt.title('Original image')\n",
    "plt.subplot(132)\n",
    "plt.imshow(top1, cmap=plt.cm.gray)\n",
    "plt.title(r'Morphological tophat with a $5\\times5$ kernel')\n",
    "plt.subplot(133)\n",
    "plt.imshow(top2, cmap=plt.cm.gray)\n",
    "plt.title(r'Morphological tophat with a $9\\times9$ kernel')"
   ]
  },
  {
   "cell_type": "code",
   "execution_count": null,
   "metadata": {
    "collapsed": false
   },
   "outputs": [],
   "source": [
    "img = cv2.imread('images/binary_circles.jpg',0)\n",
    "kernel1 = np.ones((5,5), np.uint8)\n",
    "black1 = cv2.morphologyEx(img, cv2.MORPH_BLACKHAT, kernel1)\n",
    "kernel2 = np.ones((11,11), np.uint8)\n",
    "black2 = cv2.morphologyEx(img, cv2.MORPH_BLACKHAT, kernel2)\n",
    "\n",
    "plt.figure(figsize=(15, 5))\n",
    "plt.subplot(131)\n",
    "plt.imshow(img, cmap=plt.cm.gray)\n",
    "plt.title('Original image')\n",
    "plt.subplot(132)\n",
    "plt.imshow(black1, cmap=plt.cm.gray)\n",
    "plt.title(r'Morphological blackhat with a $5\\times5$ kernel')\n",
    "plt.subplot(133)\n",
    "plt.imshow(black2, cmap=plt.cm.gray)\n",
    "plt.title(r'Morphological blackhat with a $11\\times11$ kernel')"
   ]
  },
  {
   "cell_type": "code",
   "execution_count": null,
   "metadata": {
    "collapsed": false
   },
   "outputs": [],
   "source": [
    "# Rectangular Kernel\n",
    "rect = cv2.getStructuringElement(cv2.MORPH_RECT,(25,25))\n",
    "# Elliptical Kernel\n",
    "ellip = cv2.getStructuringElement(cv2.MORPH_ELLIPSE,(25,25))\n",
    "# Cross-shaped Kernel\n",
    "cross = cv2.getStructuringElement(cv2.MORPH_CROSS,(25,25))\n",
    "\n",
    "plt.matshow(ellip, cmap=cm.gray)\n",
    "plt.title(r'A $19\\times 19$ elliptical / circular kernel')"
   ]
  },
  {
   "cell_type": "code",
   "execution_count": null,
   "metadata": {
    "collapsed": false
   },
   "outputs": [],
   "source": [
    "img = cv2.imread('images/binary_circles.jpg',0)\n",
    "kernel1 = cv2.getStructuringElement(cv2.MORPH_ELLIPSE, (5,5))\n",
    "closing1 = cv2.morphologyEx(img, cv2.MORPH_CLOSE, kernel1)\n",
    "kernel2 = cv2.getStructuringElement(cv2.MORPH_ELLIPSE, (15,15))\n",
    "closing2 = cv2.morphologyEx(img, cv2.MORPH_CLOSE, kernel2)\n",
    "\n",
    "plt.figure(figsize=(15, 5))\n",
    "plt.subplot(131)\n",
    "plt.imshow(img, cmap=plt.cm.gray)\n",
    "plt.title('Original image')\n",
    "plt.subplot(132)\n",
    "plt.imshow(closing1, cmap=plt.cm.gray)\n",
    "plt.title(r'Closing with a $5\\times5$ circular kernel')\n",
    "plt.subplot(133)\n",
    "plt.imshow(closing2, cmap=plt.cm.gray)\n",
    "plt.title(r'Closing with a $15\\times15$ circular kernel')"
   ]
  },
  {
   "cell_type": "code",
   "execution_count": null,
   "metadata": {
    "collapsed": false
   },
   "outputs": [],
   "source": [
    "img = cv2.imread('images/binary_circles.jpg',0)\n",
    "kernel1 = cv2.getStructuringElement(cv2.MORPH_ELLIPSE, (9,9))\n",
    "black1 = cv2.morphologyEx(img, cv2.MORPH_BLACKHAT, kernel1)\n",
    "kernel2 = cv2.getStructuringElement(cv2.MORPH_ELLIPSE, (15,15))\n",
    "black2 = cv2.morphologyEx(img, cv2.MORPH_BLACKHAT, kernel2)\n",
    "\n",
    "plt.figure(figsize=(15, 5))\n",
    "plt.subplot(131)\n",
    "plt.imshow(img, cmap=plt.cm.gray)\n",
    "plt.title('Original image')\n",
    "plt.subplot(132)\n",
    "plt.imshow(black1, cmap=plt.cm.gray)\n",
    "plt.title(r'Blackhat with a $9\\times9$ circular kernel')\n",
    "plt.subplot(133)\n",
    "plt.imshow(black2, cmap=plt.cm.gray)\n",
    "plt.title(r'Blackhat with a $15\\times15$ circular kernel')"
   ]
  },
  {
   "cell_type": "code",
   "execution_count": null,
   "metadata": {
    "collapsed": true
   },
   "outputs": [],
   "source": []
  }
 ],
 "metadata": {
  "kernelspec": {
   "display_name": "Python 2",
   "language": "python",
   "name": "python2"
  },
  "language_info": {
   "codemirror_mode": {
    "name": "ipython",
    "version": 2
   },
   "file_extension": ".py",
   "mimetype": "text/x-python",
   "name": "python",
   "nbconvert_exporter": "python",
   "pygments_lexer": "ipython2",
   "version": "2.7.9"
  }
 },
 "nbformat": 4,
 "nbformat_minor": 0
}
